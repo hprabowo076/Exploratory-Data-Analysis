{
  "nbformat": 4,
  "nbformat_minor": 0,
  "metadata": {
    "colab": {
      "name": "HW_Day17_Haryo Prabowo.ipynb",
      "provenance": [],
      "collapsed_sections": []
    },
    "kernelspec": {
      "name": "python3",
      "display_name": "Python 3"
    },
    "language_info": {
      "name": "python"
    }
  },
  "cells": [
    {
      "cell_type": "markdown",
      "metadata": {
        "id": "n4gafgPhgRKt"
      },
      "source": [
        "# Introduction\n",
        "\n",
        "In this notebook, I will perform Exploratory Data Analysis (EDA) on admission status of high school graduates\n",
        "applying for universities. \n",
        "\n",
        "Steps:\n",
        "1. Missing value check and handling\n",
        "2. Duplicated value check and handling\n",
        "3. Statistical summaries of columns\n",
        "4. Univariate analysis\n",
        "5. Bivariate analysis\n",
        "6. Overall summary/EDA findings\n",
        "\n",
        "**Name**: Haryo Prabowo"
      ]
    },
    {
      "cell_type": "markdown",
      "metadata": {
        "id": "6J97K_xCoeI_"
      },
      "source": [
        "# Import Libraries and Load Data"
      ]
    },
    {
      "cell_type": "code",
      "metadata": {
        "colab": {
          "base_uri": "https://localhost:8080/"
        },
        "id": "aCleRAKbmCQw",
        "outputId": "4c534c40-a253-4d02-aff8-5f39ffcd2c9e"
      },
      "source": [
        "from google.colab import drive\n",
        "drive.mount('/content/gdrive')"
      ],
      "execution_count": 1,
      "outputs": [
        {
          "output_type": "stream",
          "name": "stdout",
          "text": [
            "Mounted at /content/gdrive\n"
          ]
        }
      ]
    },
    {
      "cell_type": "code",
      "metadata": {
        "id": "P70WwpNDmNOb"
      },
      "source": [
        "import numpy as np\n",
        "import pandas as pd\n",
        "import seaborn as sns\n",
        "import matplotlib.pyplot as plt"
      ],
      "execution_count": 2,
      "outputs": []
    },
    {
      "cell_type": "code",
      "metadata": {
        "colab": {
          "base_uri": "https://localhost:8080/",
          "height": 424
        },
        "id": "ciOHK3-foEWN",
        "outputId": "09887936-2367-4f89-8c40-85762bad3a99"
      },
      "source": [
        "data = pd.read_csv('/content/gdrive/MyDrive/Bootcamp/Project/Assignments/Assignment Day 17/admission_data.csv')\n",
        "data"
      ],
      "execution_count": 3,
      "outputs": [
        {
          "output_type": "execute_result",
          "data": {
            "text/html": [
              "<div>\n",
              "<style scoped>\n",
              "    .dataframe tbody tr th:only-of-type {\n",
              "        vertical-align: middle;\n",
              "    }\n",
              "\n",
              "    .dataframe tbody tr th {\n",
              "        vertical-align: top;\n",
              "    }\n",
              "\n",
              "    .dataframe thead th {\n",
              "        text-align: right;\n",
              "    }\n",
              "</style>\n",
              "<table border=\"1\" class=\"dataframe\">\n",
              "  <thead>\n",
              "    <tr style=\"text-align: right;\">\n",
              "      <th></th>\n",
              "      <th>gre_score</th>\n",
              "      <th>toefl_score</th>\n",
              "      <th>univ_ranking</th>\n",
              "      <th>motiv_letter_strength</th>\n",
              "      <th>recommendation_strength</th>\n",
              "      <th>gpa</th>\n",
              "      <th>research_exp</th>\n",
              "      <th>admit_status</th>\n",
              "    </tr>\n",
              "  </thead>\n",
              "  <tbody>\n",
              "    <tr>\n",
              "      <th>0</th>\n",
              "      <td>337.0</td>\n",
              "      <td>118.0</td>\n",
              "      <td>4.0</td>\n",
              "      <td>4.5</td>\n",
              "      <td>4.5</td>\n",
              "      <td>9.65</td>\n",
              "      <td>yes</td>\n",
              "      <td>1</td>\n",
              "    </tr>\n",
              "    <tr>\n",
              "      <th>1</th>\n",
              "      <td>324.0</td>\n",
              "      <td>107.0</td>\n",
              "      <td>4.0</td>\n",
              "      <td>4.0</td>\n",
              "      <td>4.5</td>\n",
              "      <td>8.87</td>\n",
              "      <td>yes</td>\n",
              "      <td>1</td>\n",
              "    </tr>\n",
              "    <tr>\n",
              "      <th>2</th>\n",
              "      <td>316.0</td>\n",
              "      <td>104.0</td>\n",
              "      <td>3.0</td>\n",
              "      <td>3.0</td>\n",
              "      <td>3.5</td>\n",
              "      <td>8.00</td>\n",
              "      <td>yes</td>\n",
              "      <td>1</td>\n",
              "    </tr>\n",
              "    <tr>\n",
              "      <th>3</th>\n",
              "      <td>322.0</td>\n",
              "      <td>110.0</td>\n",
              "      <td>3.0</td>\n",
              "      <td>3.5</td>\n",
              "      <td>2.5</td>\n",
              "      <td>8.67</td>\n",
              "      <td>yes</td>\n",
              "      <td>1</td>\n",
              "    </tr>\n",
              "    <tr>\n",
              "      <th>4</th>\n",
              "      <td>314.0</td>\n",
              "      <td>103.0</td>\n",
              "      <td>2.0</td>\n",
              "      <td>2.0</td>\n",
              "      <td>3.0</td>\n",
              "      <td>8.21</td>\n",
              "      <td>no</td>\n",
              "      <td>0</td>\n",
              "    </tr>\n",
              "    <tr>\n",
              "      <th>...</th>\n",
              "      <td>...</td>\n",
              "      <td>...</td>\n",
              "      <td>...</td>\n",
              "      <td>...</td>\n",
              "      <td>...</td>\n",
              "      <td>...</td>\n",
              "      <td>...</td>\n",
              "      <td>...</td>\n",
              "    </tr>\n",
              "    <tr>\n",
              "      <th>500</th>\n",
              "      <td>313.0</td>\n",
              "      <td>102.0</td>\n",
              "      <td>3.0</td>\n",
              "      <td>3.5</td>\n",
              "      <td>4.0</td>\n",
              "      <td>8.90</td>\n",
              "      <td>yes</td>\n",
              "      <td>1</td>\n",
              "    </tr>\n",
              "    <tr>\n",
              "      <th>501</th>\n",
              "      <td>328.0</td>\n",
              "      <td>108.0</td>\n",
              "      <td>4.0</td>\n",
              "      <td>4.5</td>\n",
              "      <td>4.0</td>\n",
              "      <td>9.18</td>\n",
              "      <td>yes</td>\n",
              "      <td>1</td>\n",
              "    </tr>\n",
              "    <tr>\n",
              "      <th>502</th>\n",
              "      <td>321.0</td>\n",
              "      <td>109.0</td>\n",
              "      <td>4.0</td>\n",
              "      <td>4.0</td>\n",
              "      <td>4.0</td>\n",
              "      <td>8.68</td>\n",
              "      <td>yes</td>\n",
              "      <td>0</td>\n",
              "    </tr>\n",
              "    <tr>\n",
              "      <th>503</th>\n",
              "      <td>325.0</td>\n",
              "      <td>106.0</td>\n",
              "      <td>3.0</td>\n",
              "      <td>3.5</td>\n",
              "      <td>4.0</td>\n",
              "      <td>8.40</td>\n",
              "      <td>yes</td>\n",
              "      <td>0</td>\n",
              "    </tr>\n",
              "    <tr>\n",
              "      <th>504</th>\n",
              "      <td>314.0</td>\n",
              "      <td>106.0</td>\n",
              "      <td>3.0</td>\n",
              "      <td>3.0</td>\n",
              "      <td>5.0</td>\n",
              "      <td>8.90</td>\n",
              "      <td>no</td>\n",
              "      <td>1</td>\n",
              "    </tr>\n",
              "  </tbody>\n",
              "</table>\n",
              "<p>505 rows × 8 columns</p>\n",
              "</div>"
            ],
            "text/plain": [
              "     gre_score  toefl_score  univ_ranking  ...   gpa  research_exp  admit_status\n",
              "0        337.0        118.0           4.0  ...  9.65           yes             1\n",
              "1        324.0        107.0           4.0  ...  8.87           yes             1\n",
              "2        316.0        104.0           3.0  ...  8.00           yes             1\n",
              "3        322.0        110.0           3.0  ...  8.67           yes             1\n",
              "4        314.0        103.0           2.0  ...  8.21            no             0\n",
              "..         ...          ...           ...  ...   ...           ...           ...\n",
              "500      313.0        102.0           3.0  ...  8.90           yes             1\n",
              "501      328.0        108.0           4.0  ...  9.18           yes             1\n",
              "502      321.0        109.0           4.0  ...  8.68           yes             0\n",
              "503      325.0        106.0           3.0  ...  8.40           yes             0\n",
              "504      314.0        106.0           3.0  ...  8.90            no             1\n",
              "\n",
              "[505 rows x 8 columns]"
            ]
          },
          "metadata": {},
          "execution_count": 3
        }
      ]
    },
    {
      "cell_type": "markdown",
      "metadata": {
        "id": "PjvdVb0AoxNp"
      },
      "source": [
        "# 1. Missing value check and handling"
      ]
    },
    {
      "cell_type": "code",
      "metadata": {
        "colab": {
          "base_uri": "https://localhost:8080/"
        },
        "id": "Q_GlKMwxo1yT",
        "outputId": "c8385340-176a-4349-d86b-778f18138293"
      },
      "source": [
        "#General Information\n",
        "data.info()"
      ],
      "execution_count": 4,
      "outputs": [
        {
          "output_type": "stream",
          "name": "stdout",
          "text": [
            "<class 'pandas.core.frame.DataFrame'>\n",
            "RangeIndex: 505 entries, 0 to 504\n",
            "Data columns (total 8 columns):\n",
            " #   Column                   Non-Null Count  Dtype  \n",
            "---  ------                   --------------  -----  \n",
            " 0   gre_score                496 non-null    float64\n",
            " 1   toefl_score              497 non-null    float64\n",
            " 2   univ_ranking             498 non-null    float64\n",
            " 3   motiv_letter_strength    503 non-null    float64\n",
            " 4   recommendation_strength  499 non-null    float64\n",
            " 5   gpa                      501 non-null    float64\n",
            " 6   research_exp             505 non-null    object \n",
            " 7   admit_status             505 non-null    int64  \n",
            "dtypes: float64(6), int64(1), object(1)\n",
            "memory usage: 31.7+ KB\n"
          ]
        }
      ]
    },
    {
      "cell_type": "code",
      "metadata": {
        "colab": {
          "base_uri": "https://localhost:8080/"
        },
        "id": "gEw0xYDoo49A",
        "outputId": "997347dd-64a5-40df-8b47-7f0611c5a933"
      },
      "source": [
        "# number of missing values per column\n",
        "data.isna().sum()"
      ],
      "execution_count": 5,
      "outputs": [
        {
          "output_type": "execute_result",
          "data": {
            "text/plain": [
              "gre_score                  9\n",
              "toefl_score                8\n",
              "univ_ranking               7\n",
              "motiv_letter_strength      2\n",
              "recommendation_strength    6\n",
              "gpa                        4\n",
              "research_exp               0\n",
              "admit_status               0\n",
              "dtype: int64"
            ]
          },
          "metadata": {},
          "execution_count": 5
        }
      ]
    },
    {
      "cell_type": "code",
      "metadata": {
        "colab": {
          "base_uri": "https://localhost:8080/"
        },
        "id": "qCknu3H1pDDX",
        "outputId": "dfa82eb9-2508-459b-a9cc-435f1710a958"
      },
      "source": [
        "# drop na values\n",
        "data = data.dropna()\n",
        "data.isna().sum()"
      ],
      "execution_count": 6,
      "outputs": [
        {
          "output_type": "execute_result",
          "data": {
            "text/plain": [
              "gre_score                  0\n",
              "toefl_score                0\n",
              "univ_ranking               0\n",
              "motiv_letter_strength      0\n",
              "recommendation_strength    0\n",
              "gpa                        0\n",
              "research_exp               0\n",
              "admit_status               0\n",
              "dtype: int64"
            ]
          },
          "metadata": {},
          "execution_count": 6
        }
      ]
    },
    {
      "cell_type": "markdown",
      "metadata": {
        "id": "MuV-IeCupRac"
      },
      "source": [
        "# 2. Duplicated value check and handling"
      ]
    },
    {
      "cell_type": "code",
      "metadata": {
        "colab": {
          "base_uri": "https://localhost:8080/"
        },
        "id": "Oi1Ltm2opT-6",
        "outputId": "46af07fc-8df1-48be-fbd8-b90bbc428a6c"
      },
      "source": [
        "# number of duplicated data\n",
        "data.duplicated().sum()"
      ],
      "execution_count": 7,
      "outputs": [
        {
          "output_type": "execute_result",
          "data": {
            "text/plain": [
              "5"
            ]
          },
          "metadata": {},
          "execution_count": 7
        }
      ]
    },
    {
      "cell_type": "code",
      "metadata": {
        "colab": {
          "base_uri": "https://localhost:8080/",
          "height": 206
        },
        "id": "5JCgqiAVpYOf",
        "outputId": "203874bb-9a6e-4b52-b700-900492e4c20b"
      },
      "source": [
        "# sample duplicated rows\n",
        "data[data.duplicated(keep=False)].head(5)"
      ],
      "execution_count": 8,
      "outputs": [
        {
          "output_type": "execute_result",
          "data": {
            "text/html": [
              "<div>\n",
              "<style scoped>\n",
              "    .dataframe tbody tr th:only-of-type {\n",
              "        vertical-align: middle;\n",
              "    }\n",
              "\n",
              "    .dataframe tbody tr th {\n",
              "        vertical-align: top;\n",
              "    }\n",
              "\n",
              "    .dataframe thead th {\n",
              "        text-align: right;\n",
              "    }\n",
              "</style>\n",
              "<table border=\"1\" class=\"dataframe\">\n",
              "  <thead>\n",
              "    <tr style=\"text-align: right;\">\n",
              "      <th></th>\n",
              "      <th>gre_score</th>\n",
              "      <th>toefl_score</th>\n",
              "      <th>univ_ranking</th>\n",
              "      <th>motiv_letter_strength</th>\n",
              "      <th>recommendation_strength</th>\n",
              "      <th>gpa</th>\n",
              "      <th>research_exp</th>\n",
              "      <th>admit_status</th>\n",
              "    </tr>\n",
              "  </thead>\n",
              "  <tbody>\n",
              "    <tr>\n",
              "      <th>10</th>\n",
              "      <td>325.0</td>\n",
              "      <td>106.0</td>\n",
              "      <td>3.0</td>\n",
              "      <td>3.5</td>\n",
              "      <td>4.0</td>\n",
              "      <td>8.40</td>\n",
              "      <td>yes</td>\n",
              "      <td>0</td>\n",
              "    </tr>\n",
              "    <tr>\n",
              "      <th>74</th>\n",
              "      <td>314.0</td>\n",
              "      <td>106.0</td>\n",
              "      <td>3.0</td>\n",
              "      <td>3.0</td>\n",
              "      <td>5.0</td>\n",
              "      <td>8.90</td>\n",
              "      <td>no</td>\n",
              "      <td>1</td>\n",
              "    </tr>\n",
              "    <tr>\n",
              "      <th>111</th>\n",
              "      <td>321.0</td>\n",
              "      <td>109.0</td>\n",
              "      <td>4.0</td>\n",
              "      <td>4.0</td>\n",
              "      <td>4.0</td>\n",
              "      <td>8.68</td>\n",
              "      <td>yes</td>\n",
              "      <td>0</td>\n",
              "    </tr>\n",
              "    <tr>\n",
              "      <th>311</th>\n",
              "      <td>328.0</td>\n",
              "      <td>108.0</td>\n",
              "      <td>4.0</td>\n",
              "      <td>4.5</td>\n",
              "      <td>4.0</td>\n",
              "      <td>9.18</td>\n",
              "      <td>yes</td>\n",
              "      <td>1</td>\n",
              "    </tr>\n",
              "    <tr>\n",
              "      <th>364</th>\n",
              "      <td>313.0</td>\n",
              "      <td>102.0</td>\n",
              "      <td>3.0</td>\n",
              "      <td>3.5</td>\n",
              "      <td>4.0</td>\n",
              "      <td>8.90</td>\n",
              "      <td>yes</td>\n",
              "      <td>1</td>\n",
              "    </tr>\n",
              "  </tbody>\n",
              "</table>\n",
              "</div>"
            ],
            "text/plain": [
              "     gre_score  toefl_score  univ_ranking  ...   gpa  research_exp  admit_status\n",
              "10       325.0        106.0           3.0  ...  8.40           yes             0\n",
              "74       314.0        106.0           3.0  ...  8.90            no             1\n",
              "111      321.0        109.0           4.0  ...  8.68           yes             0\n",
              "311      328.0        108.0           4.0  ...  9.18           yes             1\n",
              "364      313.0        102.0           3.0  ...  8.90           yes             1\n",
              "\n",
              "[5 rows x 8 columns]"
            ]
          },
          "metadata": {},
          "execution_count": 8
        }
      ]
    },
    {
      "cell_type": "markdown",
      "metadata": {
        "id": "v4_qm8qCqOSY"
      },
      "source": [
        "Dropping duplicated rows"
      ]
    },
    {
      "cell_type": "code",
      "metadata": {
        "colab": {
          "base_uri": "https://localhost:8080/"
        },
        "id": "hdjD-HE0qQ8t",
        "outputId": "238fbeb8-d7d8-4d45-8de2-68dac078264c"
      },
      "source": [
        "# drop duplicated rows\n",
        "data = data.drop_duplicates()\n",
        "data.duplicated().sum()"
      ],
      "execution_count": 9,
      "outputs": [
        {
          "output_type": "execute_result",
          "data": {
            "text/plain": [
              "0"
            ]
          },
          "metadata": {},
          "execution_count": 9
        }
      ]
    },
    {
      "cell_type": "markdown",
      "metadata": {
        "id": "JlGcYcGrqb7D"
      },
      "source": [
        "# 3. Statistical summaries of columns"
      ]
    },
    {
      "cell_type": "code",
      "metadata": {
        "id": "dVdsxPy6qZ_Y"
      },
      "source": [
        "# group column names based on type\n",
        "categoricals = ['research_exp']\n",
        "\n",
        "numericals = ['gre_score', 'toefl_score', 'univ_ranking', 'motiv_letter_strength', 'recommendation_strength', 'gpa', 'admit_status']"
      ],
      "execution_count": 10,
      "outputs": []
    },
    {
      "cell_type": "code",
      "metadata": {
        "colab": {
          "base_uri": "https://localhost:8080/",
          "height": 300
        },
        "id": "W3a2qpHlrEO-",
        "outputId": "eabf8064-a0e2-4c2f-ce81-11f2efe80843"
      },
      "source": [
        "# numerical statistical sumnary\n",
        "data[numericals].describe()"
      ],
      "execution_count": 11,
      "outputs": [
        {
          "output_type": "execute_result",
          "data": {
            "text/html": [
              "<div>\n",
              "<style scoped>\n",
              "    .dataframe tbody tr th:only-of-type {\n",
              "        vertical-align: middle;\n",
              "    }\n",
              "\n",
              "    .dataframe tbody tr th {\n",
              "        vertical-align: top;\n",
              "    }\n",
              "\n",
              "    .dataframe thead th {\n",
              "        text-align: right;\n",
              "    }\n",
              "</style>\n",
              "<table border=\"1\" class=\"dataframe\">\n",
              "  <thead>\n",
              "    <tr style=\"text-align: right;\">\n",
              "      <th></th>\n",
              "      <th>gre_score</th>\n",
              "      <th>toefl_score</th>\n",
              "      <th>univ_ranking</th>\n",
              "      <th>motiv_letter_strength</th>\n",
              "      <th>recommendation_strength</th>\n",
              "      <th>gpa</th>\n",
              "      <th>admit_status</th>\n",
              "    </tr>\n",
              "  </thead>\n",
              "  <tbody>\n",
              "    <tr>\n",
              "      <th>count</th>\n",
              "      <td>464.000000</td>\n",
              "      <td>464.000000</td>\n",
              "      <td>464.000000</td>\n",
              "      <td>464.000000</td>\n",
              "      <td>464.000000</td>\n",
              "      <td>464.000000</td>\n",
              "      <td>464.000000</td>\n",
              "    </tr>\n",
              "    <tr>\n",
              "      <th>mean</th>\n",
              "      <td>316.327586</td>\n",
              "      <td>107.090517</td>\n",
              "      <td>3.118534</td>\n",
              "      <td>3.366379</td>\n",
              "      <td>3.476293</td>\n",
              "      <td>8.567241</td>\n",
              "      <td>0.571121</td>\n",
              "    </tr>\n",
              "    <tr>\n",
              "      <th>std</th>\n",
              "      <td>11.242104</td>\n",
              "      <td>5.934888</td>\n",
              "      <td>1.119704</td>\n",
              "      <td>0.968974</td>\n",
              "      <td>0.919244</td>\n",
              "      <td>0.598476</td>\n",
              "      <td>0.495450</td>\n",
              "    </tr>\n",
              "    <tr>\n",
              "      <th>min</th>\n",
              "      <td>290.000000</td>\n",
              "      <td>92.000000</td>\n",
              "      <td>1.000000</td>\n",
              "      <td>1.000000</td>\n",
              "      <td>1.000000</td>\n",
              "      <td>6.800000</td>\n",
              "      <td>0.000000</td>\n",
              "    </tr>\n",
              "    <tr>\n",
              "      <th>25%</th>\n",
              "      <td>308.000000</td>\n",
              "      <td>103.000000</td>\n",
              "      <td>2.000000</td>\n",
              "      <td>2.500000</td>\n",
              "      <td>3.000000</td>\n",
              "      <td>8.127500</td>\n",
              "      <td>0.000000</td>\n",
              "    </tr>\n",
              "    <tr>\n",
              "      <th>50%</th>\n",
              "      <td>316.000000</td>\n",
              "      <td>107.000000</td>\n",
              "      <td>3.000000</td>\n",
              "      <td>3.500000</td>\n",
              "      <td>3.500000</td>\n",
              "      <td>8.560000</td>\n",
              "      <td>1.000000</td>\n",
              "    </tr>\n",
              "    <tr>\n",
              "      <th>75%</th>\n",
              "      <td>324.000000</td>\n",
              "      <td>111.250000</td>\n",
              "      <td>4.000000</td>\n",
              "      <td>4.000000</td>\n",
              "      <td>4.000000</td>\n",
              "      <td>9.025000</td>\n",
              "      <td>1.000000</td>\n",
              "    </tr>\n",
              "    <tr>\n",
              "      <th>max</th>\n",
              "      <td>340.000000</td>\n",
              "      <td>120.000000</td>\n",
              "      <td>5.000000</td>\n",
              "      <td>5.000000</td>\n",
              "      <td>5.000000</td>\n",
              "      <td>9.920000</td>\n",
              "      <td>1.000000</td>\n",
              "    </tr>\n",
              "  </tbody>\n",
              "</table>\n",
              "</div>"
            ],
            "text/plain": [
              "        gre_score  toefl_score  ...         gpa  admit_status\n",
              "count  464.000000   464.000000  ...  464.000000    464.000000\n",
              "mean   316.327586   107.090517  ...    8.567241      0.571121\n",
              "std     11.242104     5.934888  ...    0.598476      0.495450\n",
              "min    290.000000    92.000000  ...    6.800000      0.000000\n",
              "25%    308.000000   103.000000  ...    8.127500      0.000000\n",
              "50%    316.000000   107.000000  ...    8.560000      1.000000\n",
              "75%    324.000000   111.250000  ...    9.025000      1.000000\n",
              "max    340.000000   120.000000  ...    9.920000      1.000000\n",
              "\n",
              "[8 rows x 7 columns]"
            ]
          },
          "metadata": {},
          "execution_count": 11
        }
      ]
    },
    {
      "cell_type": "markdown",
      "metadata": {
        "id": "a96e6_wEt2n4"
      },
      "source": [
        "Observation:\n",
        "1. `admit_status` column is a boolean/binary column\n",
        "2. Overall, the minimum and maximum values make sense for each column\n",
        "3. Mean ~ 50% (Median) in all numericals columnn (`gre_score`, `toefl_score`, `univ_ranking`, `motiv_letter_strength`, `recommendation_strength`, `gpa`), indicating somewhat symmetrical distribution\n",
        "4. `admit_status` as an boolean column have '1' as median, indicating that '1' is the dominant values"
      ]
    },
    {
      "cell_type": "code",
      "metadata": {
        "colab": {
          "base_uri": "https://localhost:8080/",
          "height": 175
        },
        "id": "tnUF8xCArIPj",
        "outputId": "1addcf9e-cc77-44ab-955c-92833c53560c"
      },
      "source": [
        "# describe categorical data\n",
        "data[categoricals].describe()"
      ],
      "execution_count": 12,
      "outputs": [
        {
          "output_type": "execute_result",
          "data": {
            "text/html": [
              "<div>\n",
              "<style scoped>\n",
              "    .dataframe tbody tr th:only-of-type {\n",
              "        vertical-align: middle;\n",
              "    }\n",
              "\n",
              "    .dataframe tbody tr th {\n",
              "        vertical-align: top;\n",
              "    }\n",
              "\n",
              "    .dataframe thead th {\n",
              "        text-align: right;\n",
              "    }\n",
              "</style>\n",
              "<table border=\"1\" class=\"dataframe\">\n",
              "  <thead>\n",
              "    <tr style=\"text-align: right;\">\n",
              "      <th></th>\n",
              "      <th>research_exp</th>\n",
              "    </tr>\n",
              "  </thead>\n",
              "  <tbody>\n",
              "    <tr>\n",
              "      <th>count</th>\n",
              "      <td>464</td>\n",
              "    </tr>\n",
              "    <tr>\n",
              "      <th>unique</th>\n",
              "      <td>2</td>\n",
              "    </tr>\n",
              "    <tr>\n",
              "      <th>top</th>\n",
              "      <td>yes</td>\n",
              "    </tr>\n",
              "    <tr>\n",
              "      <th>freq</th>\n",
              "      <td>252</td>\n",
              "    </tr>\n",
              "  </tbody>\n",
              "</table>\n",
              "</div>"
            ],
            "text/plain": [
              "       research_exp\n",
              "count           464\n",
              "unique            2\n",
              "top             yes\n",
              "freq            252"
            ]
          },
          "metadata": {},
          "execution_count": 12
        }
      ]
    },
    {
      "cell_type": "markdown",
      "metadata": {
        "id": "Qrkp6_X9wGqj"
      },
      "source": [
        "Observations:\n",
        "1. All of the categoricals data is a binary column (2 unique value)\n",
        "2. Most of the data have 'yes' for the `research_exp` ('yes' is the dominant values)"
      ]
    },
    {
      "cell_type": "markdown",
      "metadata": {
        "id": "1INOVIYry0Ey"
      },
      "source": [
        "# 4. Univariate analysis"
      ]
    },
    {
      "cell_type": "code",
      "metadata": {
        "colab": {
          "base_uri": "https://localhost:8080/",
          "height": 297
        },
        "id": "FMwCidjTy82P",
        "outputId": "c7cd888c-9a5e-41e9-b9a8-c4b6b89924cd"
      },
      "source": [
        "#Boxplot to detect outliers\n",
        "features = numericals\n",
        "for i in range(0, len(features)):\n",
        "    plt.subplot(1, len(features), i+1)\n",
        "    sns.boxplot(y=data[features[i]], color='skyblue')\n",
        "    plt.tight_layout()"
      ],
      "execution_count": 13,
      "outputs": [
        {
          "output_type": "display_data",
          "data": {
            "image/png": "[encoded data removed]",
            "text/plain": [
              "<Figure size 432x288 with 7 Axes>"
            ]
          },
          "metadata": {
            "needs_background": "light"
          }
        }
      ]
    },
    {
      "cell_type": "markdown",
      "metadata": {
        "id": "W6_k6tWmzGEq"
      },
      "source": [
        "Obervation:\n",
        "1. There is an outlier in the recommendation_strength column"
      ]
    },
    {
      "cell_type": "code",
      "metadata": {
        "colab": {
          "base_uri": "https://localhost:8080/",
          "height": 653
        },
        "id": "sWgMlbqszHTH",
        "outputId": "79b0b547-b85c-4b32-d877-65c94b458142"
      },
      "source": [
        "#KDE plot for knowing the distribution form\n",
        "features = numericals\n",
        "plt.figure(figsize=(20,5))\n",
        "for i in range(0, len(features)):\n",
        "    #plt.subplot(2, len(features)//2, i+1)\n",
        "    plt.subplot(1, len(features), i+1)\n",
        "    sns.distplot(x=data[features[i]], color='skyblue')\n",
        "    plt.xlabel(features[i])\n",
        "    plt.tight_layout()"
      ],
      "execution_count": 14,
      "outputs": [
        {
          "output_type": "stream",
          "name": "stderr",
          "text": [
            "/usr/local/lib/python3.7/dist-packages/seaborn/distributions.py:2619: FutureWarning: `distplot` is a deprecated function and will be removed in a future version. Please adapt your code to use either `displot` (a figure-level function with similar flexibility) or `histplot` (an axes-level function for histograms).\n",
            "  warnings.warn(msg, FutureWarning)\n",
            "/usr/local/lib/python3.7/dist-packages/seaborn/distributions.py:2619: FutureWarning: `distplot` is a deprecated function and will be removed in a future version. Please adapt your code to use either `displot` (a figure-level function with similar flexibility) or `histplot` (an axes-level function for histograms).\n",
            "  warnings.warn(msg, FutureWarning)\n",
            "/usr/local/lib/python3.7/dist-packages/seaborn/distributions.py:2619: FutureWarning: `distplot` is a deprecated function and will be removed in a future version. Please adapt your code to use either `displot` (a figure-level function with similar flexibility) or `histplot` (an axes-level function for histograms).\n",
            "  warnings.warn(msg, FutureWarning)\n",
            "/usr/local/lib/python3.7/dist-packages/seaborn/distributions.py:2619: FutureWarning: `distplot` is a deprecated function and will be removed in a future version. Please adapt your code to use either `displot` (a figure-level function with similar flexibility) or `histplot` (an axes-level function for histograms).\n",
            "  warnings.warn(msg, FutureWarning)\n",
            "/usr/local/lib/python3.7/dist-packages/seaborn/distributions.py:2619: FutureWarning: `distplot` is a deprecated function and will be removed in a future version. Please adapt your code to use either `displot` (a figure-level function with similar flexibility) or `histplot` (an axes-level function for histograms).\n",
            "  warnings.warn(msg, FutureWarning)\n",
            "/usr/local/lib/python3.7/dist-packages/seaborn/distributions.py:2619: FutureWarning: `distplot` is a deprecated function and will be removed in a future version. Please adapt your code to use either `displot` (a figure-level function with similar flexibility) or `histplot` (an axes-level function for histograms).\n",
            "  warnings.warn(msg, FutureWarning)\n",
            "/usr/local/lib/python3.7/dist-packages/seaborn/distributions.py:2619: FutureWarning: `distplot` is a deprecated function and will be removed in a future version. Please adapt your code to use either `displot` (a figure-level function with similar flexibility) or `histplot` (an axes-level function for histograms).\n",
            "  warnings.warn(msg, FutureWarning)\n"
          ]
        },
        {
          "output_type": "display_data",
          "data": {
            "image/png": "[encoded data removed]",
            "text/plain": [
              "<Figure size 1440x360 with 7 Axes>"
            ]
          },
          "metadata": {
            "needs_background": "light"
          }
        }
      ]
    },
    {
      "cell_type": "markdown",
      "metadata": {
        "id": "JiditOu08t3X"
      },
      "source": [
        "Observation:\n",
        "1. Most columns have symmetric-ish distribution (no major skew)"
      ]
    },
    {
      "cell_type": "markdown",
      "metadata": {
        "id": "GshlC9LBOJMk"
      },
      "source": [
        "# 5. Bivariate analysis"
      ]
    },
    {
      "cell_type": "code",
      "metadata": {
        "colab": {
          "base_uri": "https://localhost:8080/",
          "height": 206
        },
        "id": "VRJCUIIAON32",
        "outputId": "87e29584-4e7c-46d7-ad3d-f50eb1867f1e"
      },
      "source": [
        "# dataset\n",
        "data.head()"
      ],
      "execution_count": 15,
      "outputs": [
        {
          "output_type": "execute_result",
          "data": {
            "text/html": [
              "<div>\n",
              "<style scoped>\n",
              "    .dataframe tbody tr th:only-of-type {\n",
              "        vertical-align: middle;\n",
              "    }\n",
              "\n",
              "    .dataframe tbody tr th {\n",
              "        vertical-align: top;\n",
              "    }\n",
              "\n",
              "    .dataframe thead th {\n",
              "        text-align: right;\n",
              "    }\n",
              "</style>\n",
              "<table border=\"1\" class=\"dataframe\">\n",
              "  <thead>\n",
              "    <tr style=\"text-align: right;\">\n",
              "      <th></th>\n",
              "      <th>gre_score</th>\n",
              "      <th>toefl_score</th>\n",
              "      <th>univ_ranking</th>\n",
              "      <th>motiv_letter_strength</th>\n",
              "      <th>recommendation_strength</th>\n",
              "      <th>gpa</th>\n",
              "      <th>research_exp</th>\n",
              "      <th>admit_status</th>\n",
              "    </tr>\n",
              "  </thead>\n",
              "  <tbody>\n",
              "    <tr>\n",
              "      <th>0</th>\n",
              "      <td>337.0</td>\n",
              "      <td>118.0</td>\n",
              "      <td>4.0</td>\n",
              "      <td>4.5</td>\n",
              "      <td>4.5</td>\n",
              "      <td>9.65</td>\n",
              "      <td>yes</td>\n",
              "      <td>1</td>\n",
              "    </tr>\n",
              "    <tr>\n",
              "      <th>1</th>\n",
              "      <td>324.0</td>\n",
              "      <td>107.0</td>\n",
              "      <td>4.0</td>\n",
              "      <td>4.0</td>\n",
              "      <td>4.5</td>\n",
              "      <td>8.87</td>\n",
              "      <td>yes</td>\n",
              "      <td>1</td>\n",
              "    </tr>\n",
              "    <tr>\n",
              "      <th>2</th>\n",
              "      <td>316.0</td>\n",
              "      <td>104.0</td>\n",
              "      <td>3.0</td>\n",
              "      <td>3.0</td>\n",
              "      <td>3.5</td>\n",
              "      <td>8.00</td>\n",
              "      <td>yes</td>\n",
              "      <td>1</td>\n",
              "    </tr>\n",
              "    <tr>\n",
              "      <th>3</th>\n",
              "      <td>322.0</td>\n",
              "      <td>110.0</td>\n",
              "      <td>3.0</td>\n",
              "      <td>3.5</td>\n",
              "      <td>2.5</td>\n",
              "      <td>8.67</td>\n",
              "      <td>yes</td>\n",
              "      <td>1</td>\n",
              "    </tr>\n",
              "    <tr>\n",
              "      <th>4</th>\n",
              "      <td>314.0</td>\n",
              "      <td>103.0</td>\n",
              "      <td>2.0</td>\n",
              "      <td>2.0</td>\n",
              "      <td>3.0</td>\n",
              "      <td>8.21</td>\n",
              "      <td>no</td>\n",
              "      <td>0</td>\n",
              "    </tr>\n",
              "  </tbody>\n",
              "</table>\n",
              "</div>"
            ],
            "text/plain": [
              "   gre_score  toefl_score  univ_ranking  ...   gpa  research_exp  admit_status\n",
              "0      337.0        118.0           4.0  ...  9.65           yes             1\n",
              "1      324.0        107.0           4.0  ...  8.87           yes             1\n",
              "2      316.0        104.0           3.0  ...  8.00           yes             1\n",
              "3      322.0        110.0           3.0  ...  8.67           yes             1\n",
              "4      314.0        103.0           2.0  ...  8.21            no             0\n",
              "\n",
              "[5 rows x 8 columns]"
            ]
          },
          "metadata": {},
          "execution_count": 15
        }
      ]
    },
    {
      "cell_type": "code",
      "metadata": {
        "colab": {
          "base_uri": "https://localhost:8080/",
          "height": 299
        },
        "id": "Y9UiNdzlOWeV",
        "outputId": "2a43bcb9-cd82-45df-ffdc-71a5a5946d1d"
      },
      "source": [
        "# research_exp vs admit_status likelihood\n",
        "sns.countplot(data=data,\n",
        "            x='admit_status',\n",
        "            hue='research_exp')"
      ],
      "execution_count": 16,
      "outputs": [
        {
          "output_type": "execute_result",
          "data": {
            "text/plain": [
              "<matplotlib.axes._subplots.AxesSubplot at 0x7f68b96e1050>"
            ]
          },
          "metadata": {},
          "execution_count": 16
        },
        {
          "output_type": "display_data",
          "data": {
            "image/png": "[encoded data removed]",
            "text/plain": [
              "<Figure size 432x288 with 1 Axes>"
            ]
          },
          "metadata": {
            "needs_background": "light"
          }
        }
      ]
    },
    {
      "cell_type": "markdown",
      "metadata": {
        "id": "qt3mqWTCTO_d"
      },
      "source": [
        "Observations:\n",
        "1. Someone who have research experience is more likely to be admitted (`admit_status` = '1')"
      ]
    },
    {
      "cell_type": "code",
      "metadata": {
        "colab": {
          "base_uri": "https://localhost:8080/",
          "height": 410
        },
        "id": "qMbDo4ELOcOF",
        "outputId": "1b5ac00f-f2d4-40e6-d78f-52e940320297"
      },
      "source": [
        "correlation = data.corr()\n",
        "sns.heatmap(correlation, annot=True, fmt='.2f')"
      ],
      "execution_count": 17,
      "outputs": [
        {
          "output_type": "execute_result",
          "data": {
            "text/plain": [
              "<matplotlib.axes._subplots.AxesSubplot at 0x7f68b974c890>"
            ]
          },
          "metadata": {},
          "execution_count": 17
        },
        {
          "output_type": "display_data",
          "data": {
            "image/png": "[encoded data removed]",
            "text/plain": [
              "<Figure size 432x288 with 2 Axes>"
            ]
          },
          "metadata": {
            "needs_background": "light"
          }
        }
      ]
    },
    {
      "cell_type": "markdown",
      "metadata": {
        "id": "8c2GnvSj8t3c"
      },
      "source": [
        "Observation:\n",
        "1. `toefl_score` and `gre_score` is highly correlated\n",
        "2. `toefl_score` and `gpa` is highly correlated\n",
        "3. `gpa` and `gre_score` is highly correlated\n",
        "*   choose only one of them for modelling (either `toefl_score`, `gre_score`, or `gpa`)"
      ]
    },
    {
      "cell_type": "code",
      "metadata": {
        "id": "KDBxhFNFOtMT"
      },
      "source": [
        "#Pairplot, breakdown on admit_status\n",
        "sns.pairplot(data, hue='admit_status')"
      ],
      "execution_count": null,
      "outputs": []
    },
    {
      "cell_type": "markdown",
      "metadata": {
        "id": "njKNtsaw8t3d"
      },
      "source": [
        "Observation:\n",
        "1. Most of the students who are admitted have high score/grade (`gre_score`, `gpa`, `toefl_score`)\n",
        "2. Many admitted students have good recommendation & motivation letter strength and good university ranking.\n",
        "3. Some of the students that have low recommendation & motivation letter strength are still admitted as long as the scores/grade are still high enough"
      ]
    },
    {
      "cell_type": "markdown",
      "metadata": {
        "id": "Peysu5DIOCWv"
      },
      "source": [
        "# 6. Overall summary/EDA findings"
      ]
    },
    {
      "cell_type": "markdown",
      "metadata": {
        "id": "yDIs4wftOhZv"
      },
      "source": [
        "1. The data does not contain major issues. There are only some NULL values and duplicated rows, and have been handled accordingly.\n",
        "2. Overall, the minimum and maximum values make sense for each column. \n",
        "3. Overall, all numeric columns have a somewhat symmetrical distributions, with an outlier in recommendation_strength column\n",
        "4. From the barchart of research experience vs admit status: we found that students who have research experience is more likely to be admitted\n",
        "5. From correlation heatmap: we note that TOEFL Score, GRE Score and GPA is highly correlated --> choose only one of them for modelling\n",
        "6. From Pairplot on admit_status: we found many useful insights, with the keypoint being most students that are admitted have high score in TOEFL Score, GRE Score and GPA"
      ]
    }
  ]
}